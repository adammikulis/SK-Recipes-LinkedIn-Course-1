{
 "cells": [
  {
   "cell_type": "markdown",
   "metadata": {},
   "source": [
    "This is here for folks who are wondering how to call an external ChatGPT Plugin"
   ]
  },
  {
   "cell_type": "code",
   "execution_count": null,
   "metadata": {
    "vscode": {
     "languageId": "polyglot-notebook"
    }
   },
   "outputs": [],
   "source": [
    "#!import ../config/Settings.cs\n",
    "\n",
    "bool useAzureOpenAI = false;\n",
    "\n",
    "await Settings.AskAzureEndpoint(useAzureOpenAI);\n",
    "await Settings.AskModel(useAzureOpenAI);\n",
    "await Settings.AskApiKey(useAzureOpenAI);"
   ]
  },
  {
   "cell_type": "code",
   "execution_count": null,
   "metadata": {
    "vscode": {
     "languageId": "polyglot-notebook"
    }
   },
   "outputs": [],
   "source": [
    "#r \"nuget: Microsoft.SemanticKernel, 0.20.230821.4-preview\""
   ]
  },
  {
   "cell_type": "code",
   "execution_count": null,
   "metadata": {
    "vscode": {
     "languageId": "polyglot-notebook"
    }
   },
   "outputs": [],
   "source": [
    "using System;\n",
    "using System.Net.Http;\n",
    "using System.Threading.Tasks;\n",
    "using Microsoft.SemanticKernel;\n",
    "using Microsoft.SemanticKernel.Orchestration;\n",
    "using Microsoft.SemanticKernel.Skills.OpenAPI.Extensions;\n",
    "\n",
    "var builder = new KernelBuilder();\n",
    "IKernel kernel = builder.Build();\n",
    "\n",
    "// var kernel = new KernelBuilder().WithLogger(ConsoleLogger.Logger).Build();\n",
    "\n",
    "var skill = await kernel.ImportAIPluginAsync(\"Klarna\", new Uri(\"https://www.klarna.com/.well-known/ai-plugin.json\"), new OpenApiSkillExecutionParameters(httpClient));\n",
    "\n",
    "var contextVariables = new ContextVariables();\n",
    "contextVariables.Set(\"q\", \"Laptop\");      // A precise query that matches one very small category or product that needs to be searched for to find the products the user is looking for. If the user explicitly stated what they want, use that as a query. The query is as specific as possible to the product name or category mentioned by the user in its singular form, and don't contain any clarifiers like latest, newest, cheapest, budget, premium, expensive or similar. The query is always taken from the latest topic, if there is a new topic a new query is started.\n",
    "contextVariables.Set(\"size\", \"3\");        // number of products returned\n",
    "contextVariables.Set(\"budget\", \"200\");    // maximum price of the matching product in local currency, filters results\n",
    "contextVariables.Set(\"countryCode\", \"US\");// ISO 3166 country code with 2 characters based on the user location. Currently, only US, GB, DE, SE and DK are supported.\n",
    "\n",
    "var result = await kernel.RunAsync(contextVariables, skill[\"productsUsingGET\"]);\n",
    "\n",
    "Console.WriteLine(\"Klarna skill response: {0}\", result);\n",
    "Console.ReadLine();"
   ]
  }
 ],
 "metadata": {
  "language_info": {
   "name": "python"
  },
  "orig_nbformat": 4
 },
 "nbformat": 4,
 "nbformat_minor": 2
}
